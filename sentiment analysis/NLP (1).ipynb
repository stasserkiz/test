{
 "cells": [
  {
   "cell_type": "code",
   "execution_count": 1,
   "id": "ecf16b4d-eddd-4306-a43f-e3e19af114da",
   "metadata": {},
   "outputs": [],
   "source": [
    "import pandas as pd\n",
    "import numpy as np\n",
    "import re\n",
    "import string\n",
    "\n",
    "from sklearn.feature_extraction.text import TfidfVectorizer\n",
    "from sklearn.model_selection import train_test_split"
   ]
  },
  {
   "cell_type": "code",
   "execution_count": 2,
   "id": "810babc3-f05b-479e-9f35-05aafb2c826a",
   "metadata": {},
   "outputs": [],
   "source": [
    "path = 'text.csv'"
   ]
  },
  {
   "cell_type": "code",
   "execution_count": 3,
   "id": "cdebfdb9-0f3e-42dc-a84c-2dd9bc7f8bdf",
   "metadata": {},
   "outputs": [],
   "source": [
    "df = pd.read_csv('text.csv')"
   ]
  },
  {
   "cell_type": "code",
   "execution_count": 4,
   "id": "9653ac9b-ec1a-4dff-be8b-b3a9d82bc9c0",
   "metadata": {},
   "outputs": [
    {
     "data": {
      "text/html": [
       "<div>\n",
       "<style scoped>\n",
       "    .dataframe tbody tr th:only-of-type {\n",
       "        vertical-align: middle;\n",
       "    }\n",
       "\n",
       "    .dataframe tbody tr th {\n",
       "        vertical-align: top;\n",
       "    }\n",
       "\n",
       "    .dataframe thead th {\n",
       "        text-align: right;\n",
       "    }\n",
       "</style>\n",
       "<table border=\"1\" class=\"dataframe\">\n",
       "  <thead>\n",
       "    <tr style=\"text-align: right;\">\n",
       "      <th></th>\n",
       "      <th>Unnamed: 0</th>\n",
       "      <th>text</th>\n",
       "      <th>label</th>\n",
       "    </tr>\n",
       "  </thead>\n",
       "  <tbody>\n",
       "    <tr>\n",
       "      <th>0</th>\n",
       "      <td>0</td>\n",
       "      <td>i just feel really helpless and heavy hearted</td>\n",
       "      <td>4</td>\n",
       "    </tr>\n",
       "    <tr>\n",
       "      <th>1</th>\n",
       "      <td>1</td>\n",
       "      <td>ive enjoyed being able to slouch about relax a...</td>\n",
       "      <td>0</td>\n",
       "    </tr>\n",
       "    <tr>\n",
       "      <th>2</th>\n",
       "      <td>2</td>\n",
       "      <td>i gave up my internship with the dmrg and am f...</td>\n",
       "      <td>4</td>\n",
       "    </tr>\n",
       "    <tr>\n",
       "      <th>3</th>\n",
       "      <td>3</td>\n",
       "      <td>i dont know i feel so lost</td>\n",
       "      <td>0</td>\n",
       "    </tr>\n",
       "    <tr>\n",
       "      <th>4</th>\n",
       "      <td>4</td>\n",
       "      <td>i am a kindergarten teacher and i am thoroughl...</td>\n",
       "      <td>4</td>\n",
       "    </tr>\n",
       "    <tr>\n",
       "      <th>...</th>\n",
       "      <td>...</td>\n",
       "      <td>...</td>\n",
       "      <td>...</td>\n",
       "    </tr>\n",
       "    <tr>\n",
       "      <th>416804</th>\n",
       "      <td>416804</td>\n",
       "      <td>i feel like telling these horny devils to find...</td>\n",
       "      <td>2</td>\n",
       "    </tr>\n",
       "    <tr>\n",
       "      <th>416805</th>\n",
       "      <td>416805</td>\n",
       "      <td>i began to realize that when i was feeling agi...</td>\n",
       "      <td>3</td>\n",
       "    </tr>\n",
       "    <tr>\n",
       "      <th>416806</th>\n",
       "      <td>416806</td>\n",
       "      <td>i feel very curious be why previous early dawn...</td>\n",
       "      <td>5</td>\n",
       "    </tr>\n",
       "    <tr>\n",
       "      <th>416807</th>\n",
       "      <td>416807</td>\n",
       "      <td>i feel that becuase of the tyranical nature of...</td>\n",
       "      <td>3</td>\n",
       "    </tr>\n",
       "    <tr>\n",
       "      <th>416808</th>\n",
       "      <td>416808</td>\n",
       "      <td>i think that after i had spent some time inves...</td>\n",
       "      <td>5</td>\n",
       "    </tr>\n",
       "  </tbody>\n",
       "</table>\n",
       "<p>416809 rows × 3 columns</p>\n",
       "</div>"
      ],
      "text/plain": [
       "        Unnamed: 0                                               text  label\n",
       "0                0      i just feel really helpless and heavy hearted      4\n",
       "1                1  ive enjoyed being able to slouch about relax a...      0\n",
       "2                2  i gave up my internship with the dmrg and am f...      4\n",
       "3                3                         i dont know i feel so lost      0\n",
       "4                4  i am a kindergarten teacher and i am thoroughl...      4\n",
       "...            ...                                                ...    ...\n",
       "416804      416804  i feel like telling these horny devils to find...      2\n",
       "416805      416805  i began to realize that when i was feeling agi...      3\n",
       "416806      416806  i feel very curious be why previous early dawn...      5\n",
       "416807      416807  i feel that becuase of the tyranical nature of...      3\n",
       "416808      416808  i think that after i had spent some time inves...      5\n",
       "\n",
       "[416809 rows x 3 columns]"
      ]
     },
     "execution_count": 4,
     "metadata": {},
     "output_type": "execute_result"
    }
   ],
   "source": [
    "df"
   ]
  },
  {
   "cell_type": "code",
   "execution_count": 5,
   "id": "5fd1d067-4e97-4105-9243-c16791974df4",
   "metadata": {},
   "outputs": [
    {
     "name": "stdout",
     "output_type": "stream",
     "text": [
      "<class 'pandas.core.frame.DataFrame'>\n",
      "RangeIndex: 416809 entries, 0 to 416808\n",
      "Data columns (total 3 columns):\n",
      " #   Column      Non-Null Count   Dtype \n",
      "---  ------      --------------   ----- \n",
      " 0   Unnamed: 0  416809 non-null  int64 \n",
      " 1   text        416809 non-null  object\n",
      " 2   label       416809 non-null  int64 \n",
      "dtypes: int64(2), object(1)\n",
      "memory usage: 9.5+ MB\n"
     ]
    }
   ],
   "source": [
    "df.info()"
   ]
  },
  {
   "cell_type": "code",
   "execution_count": 6,
   "id": "38defe68-c3f6-404c-87f2-3873b42a251b",
   "metadata": {},
   "outputs": [],
   "source": [
    "X = df['text']\n",
    "y = df['label']"
   ]
  },
  {
   "cell_type": "code",
   "execution_count": 7,
   "id": "19958589-1370-4c02-856a-7a086e1646c4",
   "metadata": {},
   "outputs": [
    {
     "name": "stdout",
     "output_type": "stream",
     "text": [
      "416809\n"
     ]
    }
   ],
   "source": [
    "print(len(X))"
   ]
  },
  {
   "cell_type": "code",
   "execution_count": 8,
   "id": "6186b93f-0f24-4125-9b46-8505820f059c",
   "metadata": {},
   "outputs": [],
   "source": [
    "def wp(text):\n",
    "    text = text.lower()\n",
    "    text = re.sub('\\[.*?\\]', '', text)\n",
    "    text = re.sub(\"\\\\W\",\" \",text) \n",
    "    text = re.sub('https?://\\S+|www\\.\\S+', '', text)\n",
    "    text = re.sub('<.*?>+', '', text)\n",
    "    text = re.sub('[%s]' % re.escape(string.punctuation), '', text)\n",
    "    text = re.sub('\\n', '', text)\n",
    "    text = re.sub('\\w*\\d\\w*', '', text)    \n",
    "    return text"
   ]
  },
  {
   "cell_type": "code",
   "execution_count": 9,
   "id": "c2cefa7b-fccf-4186-a14f-6e1ef3277592",
   "metadata": {},
   "outputs": [
    {
     "data": {
      "text/plain": [
       "0             i just feel really helpless and heavy hearted\n",
       "1         ive enjoyed being able to slouch about relax a...\n",
       "2         i gave up my internship with the dmrg and am f...\n",
       "3                                i dont know i feel so lost\n",
       "4         i am a kindergarten teacher and i am thoroughl...\n",
       "                                ...                        \n",
       "416804    i feel like telling these horny devils to find...\n",
       "416805    i began to realize that when i was feeling agi...\n",
       "416806    i feel very curious be why previous early dawn...\n",
       "416807    i feel that becuase of the tyranical nature of...\n",
       "416808    i think that after i had spent some time inves...\n",
       "Name: text, Length: 416809, dtype: object"
      ]
     },
     "execution_count": 9,
     "metadata": {},
     "output_type": "execute_result"
    }
   ],
   "source": [
    "X"
   ]
  },
  {
   "cell_type": "code",
   "execution_count": 10,
   "id": "e0eecc6f-0004-421f-a60d-3341835227a0",
   "metadata": {},
   "outputs": [
    {
     "data": {
      "text/plain": [
       "0             i just feel really helpless and heavy hearted\n",
       "1         ive enjoyed being able to slouch about relax a...\n",
       "2         i gave up my internship with the dmrg and am f...\n",
       "3                                i dont know i feel so lost\n",
       "4         i am a kindergarten teacher and i am thoroughl...\n",
       "                                ...                        \n",
       "416804    i feel like telling these horny devils to find...\n",
       "416805    i began to realize that when i was feeling agi...\n",
       "416806    i feel very curious be why previous early dawn...\n",
       "416807    i feel that becuase of the tyranical nature of...\n",
       "416808    i think that after i had spent some time inves...\n",
       "Name: text, Length: 416809, dtype: object"
      ]
     },
     "execution_count": 10,
     "metadata": {},
     "output_type": "execute_result"
    }
   ],
   "source": [
    "X = X.apply(wp)\n",
    "X"
   ]
  },
  {
   "cell_type": "code",
   "execution_count": 11,
   "id": "5f0f823f-e75c-44e5-9661-88ec51b74ef9",
   "metadata": {},
   "outputs": [],
   "source": [
    "X_train, X_test, y_train, y_test = train_test_split(X,y,test_size=0.2,random_state=42)"
   ]
  },
  {
   "cell_type": "code",
   "execution_count": 25,
   "id": "9c0b2a9b-61da-48c3-a378-c252bbdaa28a",
   "metadata": {},
   "outputs": [],
   "source": [
    "#Конвертуємо текст в вектор\n",
    "\n",
    "vectorization = TfidfVectorizer()\n",
    "XV_train = vectorization.fit_transform(X_train)\n",
    "XV_test = vectorization.transform(X_test)"
   ]
  },
  {
   "cell_type": "code",
   "execution_count": 26,
   "id": "23d0b49f-25e7-449b-96e7-0ceb1b69e679",
   "metadata": {},
   "outputs": [
    {
     "data": {
      "text/plain": [
       "<83362x67923 sparse matrix of type '<class 'numpy.float64'>'\n",
       "\twith 1293065 stored elements in Compressed Sparse Row format>"
      ]
     },
     "execution_count": 26,
     "metadata": {},
     "output_type": "execute_result"
    }
   ],
   "source": [
    "XV_test "
   ]
  },
  {
   "cell_type": "code",
   "execution_count": 13,
   "id": "3b67d5d8-514c-40a6-88fa-6a9a2b4b2157",
   "metadata": {},
   "outputs": [
    {
     "data": {
      "text/plain": [
       "0.3384451871240784"
      ]
     },
     "execution_count": 13,
     "metadata": {},
     "output_type": "execute_result"
    }
   ],
   "source": [
    "score_baseline = y.value_counts(normalize=True).max()\n",
    "score_baseline"
   ]
  },
  {
   "cell_type": "code",
   "execution_count": 14,
   "id": "fdb094c3-39bf-487a-8816-ecf89453d3e5",
   "metadata": {},
   "outputs": [],
   "source": [
    "params = {\n",
    "    'objective': 'binary:logistic',\n",
    "    'n_estimators': 500,\n",
    "    'max_depth': 6,\n",
    "    'learning_rate': 0.1,\n",
    "    'n_jobs': -1,\n",
    "    'tree_method': 'hist',    \n",
    "}"
   ]
  },
  {
   "cell_type": "code",
   "execution_count": 15,
   "id": "fbaa7425-e396-4b2f-a31b-17635f4198e7",
   "metadata": {},
   "outputs": [],
   "source": [
    "from xgboost import XGBClassifier\n",
    "xgb_model = XGBClassifier(**params)"
   ]
  },
  {
   "cell_type": "code",
   "execution_count": 16,
   "id": "19eb438b-ccbd-483f-bd55-cdb0e1d51e6f",
   "metadata": {},
   "outputs": [
    {
     "name": "stdout",
     "output_type": "stream",
     "text": [
      "[0]\tvalidation_0-mlogloss:1.73901\n",
      "[50]\tvalidation_0-mlogloss:0.96609\n",
      "[100]\tvalidation_0-mlogloss:0.74568\n",
      "[150]\tvalidation_0-mlogloss:0.61939\n",
      "[200]\tvalidation_0-mlogloss:0.53522\n",
      "[250]\tvalidation_0-mlogloss:0.47430\n",
      "[300]\tvalidation_0-mlogloss:0.42796\n",
      "[350]\tvalidation_0-mlogloss:0.39203\n",
      "[400]\tvalidation_0-mlogloss:0.36292\n",
      "[450]\tvalidation_0-mlogloss:0.33917\n",
      "[499]\tvalidation_0-mlogloss:0.32026\n"
     ]
    },
    {
     "data": {
      "text/html": [
       "<style>#sk-container-id-1 {color: black;}#sk-container-id-1 pre{padding: 0;}#sk-container-id-1 div.sk-toggleable {background-color: white;}#sk-container-id-1 label.sk-toggleable__label {cursor: pointer;display: block;width: 100%;margin-bottom: 0;padding: 0.3em;box-sizing: border-box;text-align: center;}#sk-container-id-1 label.sk-toggleable__label-arrow:before {content: \"▸\";float: left;margin-right: 0.25em;color: #696969;}#sk-container-id-1 label.sk-toggleable__label-arrow:hover:before {color: black;}#sk-container-id-1 div.sk-estimator:hover label.sk-toggleable__label-arrow:before {color: black;}#sk-container-id-1 div.sk-toggleable__content {max-height: 0;max-width: 0;overflow: hidden;text-align: left;background-color: #f0f8ff;}#sk-container-id-1 div.sk-toggleable__content pre {margin: 0.2em;color: black;border-radius: 0.25em;background-color: #f0f8ff;}#sk-container-id-1 input.sk-toggleable__control:checked~div.sk-toggleable__content {max-height: 200px;max-width: 100%;overflow: auto;}#sk-container-id-1 input.sk-toggleable__control:checked~label.sk-toggleable__label-arrow:before {content: \"▾\";}#sk-container-id-1 div.sk-estimator input.sk-toggleable__control:checked~label.sk-toggleable__label {background-color: #d4ebff;}#sk-container-id-1 div.sk-label input.sk-toggleable__control:checked~label.sk-toggleable__label {background-color: #d4ebff;}#sk-container-id-1 input.sk-hidden--visually {border: 0;clip: rect(1px 1px 1px 1px);clip: rect(1px, 1px, 1px, 1px);height: 1px;margin: -1px;overflow: hidden;padding: 0;position: absolute;width: 1px;}#sk-container-id-1 div.sk-estimator {font-family: monospace;background-color: #f0f8ff;border: 1px dotted black;border-radius: 0.25em;box-sizing: border-box;margin-bottom: 0.5em;}#sk-container-id-1 div.sk-estimator:hover {background-color: #d4ebff;}#sk-container-id-1 div.sk-parallel-item::after {content: \"\";width: 100%;border-bottom: 1px solid gray;flex-grow: 1;}#sk-container-id-1 div.sk-label:hover label.sk-toggleable__label {background-color: #d4ebff;}#sk-container-id-1 div.sk-serial::before {content: \"\";position: absolute;border-left: 1px solid gray;box-sizing: border-box;top: 0;bottom: 0;left: 50%;z-index: 0;}#sk-container-id-1 div.sk-serial {display: flex;flex-direction: column;align-items: center;background-color: white;padding-right: 0.2em;padding-left: 0.2em;position: relative;}#sk-container-id-1 div.sk-item {position: relative;z-index: 1;}#sk-container-id-1 div.sk-parallel {display: flex;align-items: stretch;justify-content: center;background-color: white;position: relative;}#sk-container-id-1 div.sk-item::before, #sk-container-id-1 div.sk-parallel-item::before {content: \"\";position: absolute;border-left: 1px solid gray;box-sizing: border-box;top: 0;bottom: 0;left: 50%;z-index: -1;}#sk-container-id-1 div.sk-parallel-item {display: flex;flex-direction: column;z-index: 1;position: relative;background-color: white;}#sk-container-id-1 div.sk-parallel-item:first-child::after {align-self: flex-end;width: 50%;}#sk-container-id-1 div.sk-parallel-item:last-child::after {align-self: flex-start;width: 50%;}#sk-container-id-1 div.sk-parallel-item:only-child::after {width: 0;}#sk-container-id-1 div.sk-dashed-wrapped {border: 1px dashed gray;margin: 0 0.4em 0.5em 0.4em;box-sizing: border-box;padding-bottom: 0.4em;background-color: white;}#sk-container-id-1 div.sk-label label {font-family: monospace;font-weight: bold;display: inline-block;line-height: 1.2em;}#sk-container-id-1 div.sk-label-container {text-align: center;}#sk-container-id-1 div.sk-container {/* jupyter's `normalize.less` sets `[hidden] { display: none; }` but bootstrap.min.css set `[hidden] { display: none !important; }` so we also need the `!important` here to be able to override the default hidden behavior on the sphinx rendered scikit-learn.org. See: https://github.com/scikit-learn/scikit-learn/issues/21755 */display: inline-block !important;position: relative;}#sk-container-id-1 div.sk-text-repr-fallback {display: none;}</style><div id=\"sk-container-id-1\" class=\"sk-top-container\"><div class=\"sk-text-repr-fallback\"><pre>XGBClassifier(base_score=None, booster=None, callbacks=None,\n",
       "              colsample_bylevel=None, colsample_bynode=None,\n",
       "              colsample_bytree=None, device=None, early_stopping_rounds=None,\n",
       "              enable_categorical=False, eval_metric=None, feature_types=None,\n",
       "              gamma=None, grow_policy=None, importance_type=None,\n",
       "              interaction_constraints=None, learning_rate=0.1, max_bin=None,\n",
       "              max_cat_threshold=None, max_cat_to_onehot=None,\n",
       "              max_delta_step=None, max_depth=6, max_leaves=None,\n",
       "              min_child_weight=None, missing=nan, monotone_constraints=None,\n",
       "              multi_strategy=None, n_estimators=500, n_jobs=-1,\n",
       "              num_parallel_tree=None, objective=&#x27;multi:softprob&#x27;, ...)</pre><b>In a Jupyter environment, please rerun this cell to show the HTML representation or trust the notebook. <br />On GitHub, the HTML representation is unable to render, please try loading this page with nbviewer.org.</b></div><div class=\"sk-container\" hidden><div class=\"sk-item\"><div class=\"sk-estimator sk-toggleable\"><input class=\"sk-toggleable__control sk-hidden--visually\" id=\"sk-estimator-id-1\" type=\"checkbox\" checked><label for=\"sk-estimator-id-1\" class=\"sk-toggleable__label sk-toggleable__label-arrow\">XGBClassifier</label><div class=\"sk-toggleable__content\"><pre>XGBClassifier(base_score=None, booster=None, callbacks=None,\n",
       "              colsample_bylevel=None, colsample_bynode=None,\n",
       "              colsample_bytree=None, device=None, early_stopping_rounds=None,\n",
       "              enable_categorical=False, eval_metric=None, feature_types=None,\n",
       "              gamma=None, grow_policy=None, importance_type=None,\n",
       "              interaction_constraints=None, learning_rate=0.1, max_bin=None,\n",
       "              max_cat_threshold=None, max_cat_to_onehot=None,\n",
       "              max_delta_step=None, max_depth=6, max_leaves=None,\n",
       "              min_child_weight=None, missing=nan, monotone_constraints=None,\n",
       "              multi_strategy=None, n_estimators=500, n_jobs=-1,\n",
       "              num_parallel_tree=None, objective=&#x27;multi:softprob&#x27;, ...)</pre></div></div></div></div></div>"
      ],
      "text/plain": [
       "XGBClassifier(base_score=None, booster=None, callbacks=None,\n",
       "              colsample_bylevel=None, colsample_bynode=None,\n",
       "              colsample_bytree=None, device=None, early_stopping_rounds=None,\n",
       "              enable_categorical=False, eval_metric=None, feature_types=None,\n",
       "              gamma=None, grow_policy=None, importance_type=None,\n",
       "              interaction_constraints=None, learning_rate=0.1, max_bin=None,\n",
       "              max_cat_threshold=None, max_cat_to_onehot=None,\n",
       "              max_delta_step=None, max_depth=6, max_leaves=None,\n",
       "              min_child_weight=None, missing=nan, monotone_constraints=None,\n",
       "              multi_strategy=None, n_estimators=500, n_jobs=-1,\n",
       "              num_parallel_tree=None, objective='multi:softprob', ...)"
      ]
     },
     "execution_count": 16,
     "metadata": {},
     "output_type": "execute_result"
    }
   ],
   "source": [
    "xgb_model.fit(XV_train, y_train, eval_set=[(XV_test, y_test)],verbose=50)"
   ]
  },
  {
   "cell_type": "code",
   "execution_count": 17,
   "id": "7cf4680c-382a-4a10-917f-15b729bf870c",
   "metadata": {},
   "outputs": [],
   "source": [
    "pred_xgb=xgb_model.predict(XV_test)"
   ]
  },
  {
   "cell_type": "code",
   "execution_count": 18,
   "id": "b2b774f8-5b9f-4a7d-a106-dfd769e5c56a",
   "metadata": {},
   "outputs": [],
   "source": [
    "from sklearn.metrics import accuracy_score\n",
    "score_xgb = accuracy_score(y_test, pred_xgb)"
   ]
  },
  {
   "cell_type": "code",
   "execution_count": 19,
   "id": "ada019c3-e281-4579-8fab-569419eee376",
   "metadata": {},
   "outputs": [
    {
     "data": {
      "text/plain": [
       "0.8979990883136201"
      ]
     },
     "execution_count": 19,
     "metadata": {},
     "output_type": "execute_result"
    }
   ],
   "source": [
    "score_xgb"
   ]
  },
  {
   "cell_type": "code",
   "execution_count": 20,
   "id": "8554dfc8-50a3-45eb-8c2a-b0c6155107c9",
   "metadata": {},
   "outputs": [],
   "source": [
    "def output_lable(n):\n",
    "    return f'The Text Sentement is {classes_names[n]}'"
   ]
  },
  {
   "cell_type": "code",
   "execution_count": 21,
   "id": "82a68ed8-bd68-4143-9d3e-014b65800628",
   "metadata": {},
   "outputs": [
    {
     "data": {
      "text/plain": [
       "{0: 'sadness', 1: 'joy', 2: 'love', 3: 'anger', 4: 'fear', 5: 'surprise'}"
      ]
     },
     "execution_count": 21,
     "metadata": {},
     "output_type": "execute_result"
    }
   ],
   "source": [
    "classes_names = { 0:'sadness',1:'joy',2:'love',3:'anger',4:'fear',5:'surprise'}\n",
    "classes_names"
   ]
  },
  {
   "cell_type": "code",
   "execution_count": 22,
   "id": "32d0aa2f-0022-4daf-a084-d1fe41ba00d9",
   "metadata": {},
   "outputs": [],
   "source": [
    "def output_lable(n):\n",
    "    return f'The Text Sentement is {classes_names[n]}'\n",
    "    \n",
    "def manual_testing(news):\n",
    "    testing_news = {\"text\":[news]}\n",
    "    new_def_test = pd.DataFrame(testing_news)\n",
    "    new_def_test[\"text\"] = new_def_test[\"text\"].apply(wp) \n",
    "    new_x_test = new_def_test[\"text\"]\n",
    "    new_xv_test = vectorization.transform(new_x_test)\n",
    "    pred_xgb = xgb_model.predict(new_xv_test)\n",
    "    print(f'{output_lable(pred_xgb[0])}')"
   ]
  },
  {
   "cell_type": "code",
   "execution_count": 23,
   "id": "b5f5167f-e67d-4447-92e2-a37831d71568",
   "metadata": {},
   "outputs": [
    {
     "name": "stdout",
     "output_type": "stream",
     "text": [
      "The Text Sentement is sadness\n"
     ]
    }
   ],
   "source": [
    "text = \"i dont know i feel so lost\"\n",
    "manual_testing(text)"
   ]
  },
  {
   "cell_type": "code",
   "execution_count": 24,
   "id": "56250950-c043-4154-84d9-8db4e49d7425",
   "metadata": {},
   "outputs": [
    {
     "name": "stdout",
     "output_type": "stream",
     "text": [
      "The Text Sentement is joy\n"
     ]
    }
   ],
   "source": [
    "text = 'i didn t feel terrific'\n",
    "manual_testing(text)"
   ]
  },
  {
   "cell_type": "code",
   "execution_count": 40,
   "id": "2df811b3-a57b-4a41-9f82-dab91600470f",
   "metadata": {},
   "outputs": [],
   "source": [
    "import pickle\n",
    "with open('my_model.pkl', 'wb') as f:\n",
    "    pickle.dump(xgb_model, f)"
   ]
  },
  {
   "cell_type": "code",
   "execution_count": 47,
   "id": "98728a70-04ed-4a45-9efd-42d018a6ed47",
   "metadata": {},
   "outputs": [
    {
     "name": "stdout",
     "output_type": "stream",
     "text": [
      "The Text Sentement is joy\n"
     ]
    }
   ],
   "source": [
    "text = 'shit movie'\n",
    "\n",
    "manual_testing(text)"
   ]
  },
  {
   "cell_type": "code",
   "execution_count": 48,
   "id": "135947c4-fad3-4062-98d8-afc4c4200d17",
   "metadata": {},
   "outputs": [
    {
     "name": "stderr",
     "output_type": "stream",
     "text": [
      "C:\\ProgramData\\anaconda3\\Lib\\site-packages\\xgboost\\core.py:160: UserWarning: [02:19:56] WARNING: C:\\buildkite-agent\\builds\\buildkite-windows-cpu-autoscaling-group-i-0750514818a16474a-1\\xgboost\\xgboost-ci-windows\\src\\c_api\\c_api.cc:1240: Saving into deprecated binary model format, please consider using `json` or `ubj`. Model format will default to JSON in XGBoost 2.2 if not specified.\n",
      "  warnings.warn(smsg, UserWarning)\n"
     ]
    }
   ],
   "source": [
    "xgb_model.save_model('my_model.xgb')"
   ]
  },
  {
   "cell_type": "code",
   "execution_count": null,
   "id": "d7ea7cb8-f2f8-41ab-8ade-20cb9efef24e",
   "metadata": {},
   "outputs": [],
   "source": []
  }
 ],
 "metadata": {
  "kernelspec": {
   "display_name": "Python 3 (ipykernel)",
   "language": "python",
   "name": "python3"
  },
  "language_info": {
   "codemirror_mode": {
    "name": "ipython",
    "version": 3
   },
   "file_extension": ".py",
   "mimetype": "text/x-python",
   "name": "python",
   "nbconvert_exporter": "python",
   "pygments_lexer": "ipython3",
   "version": "3.11.5"
  }
 },
 "nbformat": 4,
 "nbformat_minor": 5
}
